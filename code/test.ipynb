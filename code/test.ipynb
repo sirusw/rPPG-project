{
 "cells": [
  {
   "cell_type": "code",
   "execution_count": 364,
   "metadata": {},
   "outputs": [],
   "source": [
    "# read mat file\n",
    "import scipy.io as sio\n",
    "import numpy as np\n",
    "import matplotlib.pyplot as plt\n",
    "from queue import Queue\n",
    "import cv2 as cv\n",
    "import copy\n",
    "import time\n",
    "import dlib\n",
    "from scipy import signal"
   ]
  },
  {
   "cell_type": "markdown",
   "metadata": {},
   "source": [
    "## 1. Take one data as an example"
   ]
  },
  {
   "cell_type": "code",
   "execution_count": 365,
   "metadata": {},
   "outputs": [
    {
     "name": "stdout",
     "output_type": "stream",
     "text": [
      "dict_keys(['__header__', '__version__', '__globals__', 'video', 'GT_ppg', 'light', 'motion', 'exercise', 'skin_color', 'gender', 'glasser', 'hair_cover', 'makeup'])\n"
     ]
    }
   ],
   "source": [
    "# load mat file\n",
    "sample_file = sio.loadmat('p6_4.mat')\n",
    "print(sample_file.keys())"
   ]
  },
  {
   "cell_type": "markdown",
   "metadata": {},
   "source": [
    "You can see there are several keys in the data. You will mainly use 'video' and 'GT_ppg' for your evaluation. The 'video' records the stationary scene of the face, and the 'GT_ppg' records the ground truth heart rate of the participants in the video."
   ]
  },
  {
   "cell_type": "code",
   "execution_count": 366,
   "metadata": {},
   "outputs": [
    {
     "data": {
      "text/plain": [
       "((1800, 80, 60, 3), (1, 1800))"
      ]
     },
     "execution_count": 366,
     "metadata": {},
     "output_type": "execute_result"
    }
   ],
   "source": [
    "video = sample_file['video']\n",
    "gt = sample_file['GT_ppg']\n",
    "video.shape, gt.shape"
   ]
  },
  {
   "cell_type": "code",
   "execution_count": null,
   "metadata": {},
   "outputs": [],
   "source": [
    "with np.printoptions(threshold=np.inf):\n",
    "    print(gt)"
   ]
  },
  {
   "cell_type": "markdown",
   "metadata": {},
   "source": [
    "As mentioned in the paper, the sampling rate of the video and ground truth is **30 fps**."
   ]
  },
  {
   "cell_type": "markdown",
   "metadata": {},
   "source": [
    "## 2. Evaluation"
   ]
  },
  {
   "cell_type": "code",
   "execution_count": 368,
   "metadata": {},
   "outputs": [
    {
     "name": "stdout",
     "output_type": "stream",
     "text": [
      ".DS_Store\n",
      "p29_0.mat\n",
      "p29_4.mat\n",
      "p6_8.mat\n",
      "p6_4.mat\n",
      "p29_8.mat\n",
      "p6_0.mat\n",
      "p29_16.mat\n",
      "test.ipynb\n",
      "p6_16.mat\n"
     ]
    }
   ],
   "source": [
    "import os\n",
    "\n",
    "# Define the directory path\n",
    "dir_path = '/Users/zihan/Documents/hku/aiot/group proj/mmpd'\n",
    "\n",
    "# Loop over all files in the directory\n",
    "for filename in os.listdir(dir_path):\n",
    "    # Check if the file is a regular file (not a directory)\n",
    "    if os.path.isfile(os.path.join(dir_path, filename)):\n",
    "        # Do something with the file\n",
    "        print(filename)"
   ]
  },
  {
   "cell_type": "markdown",
   "metadata": {},
   "source": [
    "You need to evaluate the performance of your algorithm on the above eight videos. The evaluation metric is the **mean absolute error (MAE)** between the estimated heart rate and the ground truth. The MAE is calculated as follows:\n",
    "$$\n",
    "MAE = \\frac{1}{N}\\sum_{i=1}^{N}|HR_{est}^{(i)} - HR_{gt}^{(i)}|\n",
    "$$\n",
    "You can use MAE as your evaluation metric in your report. Other metrics are also welcomed."
   ]
  },
  {
   "cell_type": "code",
   "execution_count": 369,
   "metadata": {},
   "outputs": [
    {
     "data": {
      "text/plain": [
       "(1800, 80, 60, 3)"
      ]
     },
     "execution_count": 369,
     "metadata": {},
     "output_type": "execute_result"
    }
   ],
   "source": [
    "video.shape"
   ]
  },
  {
   "cell_type": "code",
   "execution_count": 370,
   "metadata": {},
   "outputs": [],
   "source": [
    "detector = dlib.get_frontal_face_detector()\n",
    "predictor = dlib.shape_predictor(r\"/Users/zihan/Documents/hku/aiot/group proj/rPPG-project/code/model/shape_predictor_81_face_landmarks.dat\")  \n",
    " "
   ]
  },
  {
   "cell_type": "code",
   "execution_count": 371,
   "metadata": {},
   "outputs": [],
   "source": [
    "MIN_HZ = 0.85  # 51bpm\n",
    "MAX_HZ = 2.5 # 150bpm\n",
    "BETA = 0.95 # smoothing factor\n",
    "\n"
   ]
  },
  {
   "cell_type": "code",
   "execution_count": 372,
   "metadata": {},
   "outputs": [],
   "source": [
    "# %pip uninstall -y obspy\n",
    "# %pip install obspy"
   ]
  },
  {
   "cell_type": "code",
   "execution_count": 373,
   "metadata": {},
   "outputs": [],
   "source": [
    "# %pip uninstall -y lxml\n",
    "# %pip install lxml"
   ]
  },
  {
   "cell_type": "code",
   "execution_count": 374,
   "metadata": {},
   "outputs": [],
   "source": [
    "from obspy.signal.detrend import polynomial\n",
    "\n",
    "def Signal_Preprocessing(rgbsig):\n",
    "        data = np.array(rgbsig)\n",
    "        data_r = polynomial(data[:, 0], order=2)\n",
    "        data_g = polynomial(data[:, 1], order=2)\n",
    "        data_b = polynomial(data[:, 2], order=2)\n",
    "        return np.array([data_r, data_g, data_b]).T\n",
    "\n",
    "def Signal_Preprocessing_single(sig):\n",
    "        return polynomial(sig, order=2)\n",
    "\n",
    "def transfer2bmp(beta, _bpm, spec, fps):\n",
    "        return beta * _bpm + (1 - beta) * np.argmax(spec[:int(len(spec)/2)])/len(spec) * fps * 60\n",
    "\n"
   ]
  },
  {
   "cell_type": "code",
   "execution_count": 375,
   "metadata": {},
   "outputs": [],
   "source": [
    "# %pip install --upgrade lxml"
   ]
  },
  {
   "cell_type": "code",
   "execution_count": 376,
   "metadata": {},
   "outputs": [],
   "source": [
    "def marker(frame):\n",
    "        frame_gray = cv.cvtColor(frame, cv.COLOR_BGR2GRAY)\n",
    "        faces = detector(frame_gray)\n",
    "        if len(faces) == 1:\n",
    "            face = faces[0]\n",
    "            landmarks = [[p.x, p.y] for p in predictor(frame_gray, face).parts()]\n",
    "        try:\n",
    "            return landmarks\n",
    "        except:\n",
    "            return None\n",
    "        \n",
    "def roi(frame, flag_face):\n",
    "    frame = cv.GaussianBlur(frame, (5, 5), 0)\n",
    "    landmark = marker(frame)\n",
    "    cheek_l = [1, 2, 3, 4, 48, 31, 28, 39]\n",
    "    cheek_r = [15, 14, 14, 12, 54, 35, 28, 42]\n",
    "    forehead = [69, 70, 71, 80, 72, 25, 24, 23, 22, 21, 20, 19, 18]\n",
    "\n",
    "    mask_l = np.zeros(frame.shape, dtype=np.uint8)\n",
    "    mask_r = np.zeros(frame.shape, dtype=np.uint8)\n",
    "    mask_f = np.zeros(frame.shape, dtype=np.uint8)\n",
    "    mask_display = np.zeros(frame.shape, dtype=np.uint8)\n",
    "    try:\n",
    "        flag_face = True\n",
    "        pts_l = np.array(\n",
    "            [landmark[i] for i in cheek_l], np.int32).reshape((-1, 1, 2))\n",
    "        pts_r = np.array(\n",
    "            [landmark[i] for i in cheek_r], np.int32).reshape((-1, 1, 2))\n",
    "        pts_f = np.array(\n",
    "            [landmark[i] for i in forehead], np.int32).reshape((-1, 1, 2))\n",
    "        \n",
    "        mask_l = cv.fillPoly(mask_l, [pts_l], (255, 255, 255))\n",
    "        mask_r = cv.fillPoly(mask_r, [pts_r], (255, 255, 255))\n",
    "        mask_f = cv.fillPoly(mask_f, [pts_f], (255, 255, 255))\n",
    "\n",
    "        kernel = cv.getStructuringElement(cv.MORPH_ELLIPSE, (15, 30))\n",
    "        mask_l = cv.erode(mask_l, kernel, iterations=1)\n",
    "        mask_r = cv.erode(mask_r, kernel, iterations=1)\n",
    "        mask_f = cv.erode(mask_f, kernel, iterations=1)\n",
    "        \n",
    "        mask_display_l, mask_display_r, mask_display_f = copy.copy(mask_l), copy.copy(mask_r), copy.copy(mask_f)\n",
    "        mask_display_l[:, :, 1] = 0\n",
    "        mask_display_r[:, :, 0] = 0\n",
    "        mask_display_f[:, :, 2] = 0\n",
    "\n",
    "        mask_display = cv.bitwise_or(mask_display_l, mask_display_r)\n",
    "        mask_display = cv.bitwise_or(mask_display, mask_display_f)\n",
    "        face_mask = cv.addWeighted(mask_display, 0.25, frame, 1, 0)\n",
    "\n",
    "        roi_l = cv.bitwise_and(mask_l, frame)\n",
    "        roi_r = cv.bitwise_and(mask_r, frame)\n",
    "        roi_f = cv.bitwise_and(mask_f, frame)\n",
    "\n",
    "        return roi_l, roi_r, roi_f, flag_face, face_mask\n",
    "    \n",
    "    except Exception as e:\n",
    "        face_mask = frame\n",
    "        flag_face = False\n",
    "        return None, None, None, flag_face, face_mask"
   ]
  },
  {
   "cell_type": "code",
   "execution_count": 377,
   "metadata": {},
   "outputs": [],
   "source": [
    "def RGB_hist(roi):\n",
    "    b_hist = cv.calcHist([roi], [0], None, [256], [0, 256])\n",
    "    g_hist = cv.calcHist([roi], [1], None, [256], [0, 256])\n",
    "    r_hist = cv.calcHist([roi], [2], None, [256], [0, 256])\n",
    "\n",
    "    b_hist = np.reshape(b_hist, (256))\n",
    "    g_hist = np.reshape(g_hist, (256))\n",
    "    r_hist = np.reshape(r_hist, (256))\n",
    "\n",
    "    b_hist[0] = 0\n",
    "    g_hist[0] = 0\n",
    "    r_hist[0] = 0\n",
    "\n",
    "    r_hist = r_hist/np.sum(r_hist)\n",
    "    g_hist = g_hist/np.sum(g_hist)\n",
    "    b_hist = b_hist/np.sum(b_hist)\n",
    "\n",
    "    return [r_hist, g_hist, b_hist]\n",
    "\n",
    "def Hist2Feature(hist):\n",
    "    hist_r = hist[0]\n",
    "    hist_g = hist[1]\n",
    "    hist_b = hist[2]\n",
    "\n",
    "    hist_r /= np.sum(hist_r)\n",
    "    hist_g /= np.sum(hist_g)\n",
    "    hist_b /= np.sum(hist_b)\n",
    "\n",
    "    dens = np.arange(0, 256, 1)\n",
    "    mean_r = dens.dot(hist_r)\n",
    "    mean_g = dens.dot(hist_g)\n",
    "    mean_b = dens.dot(hist_b)\n",
    "\n",
    "    return [mean_r, mean_g, mean_b]\n"
   ]
  },
  {
   "cell_type": "code",
   "execution_count": 378,
   "metadata": {},
   "outputs": [],
   "source": [
    "def CHROM(signal):\n",
    "    X = signal\n",
    "    Xcomp = 3*X[:, 0] - 2*X[:, 1]\n",
    "    Ycomp = (1.5*X[:, 0])+X[:, 1]-(1.5*X[:, 2])\n",
    "    sX = np.std(Xcomp)\n",
    "    sY = np.std(Ycomp)\n",
    "    alpha = sX/sY\n",
    "    bvp = Xcomp - alpha * Ycomp\n",
    "    return bvp\n",
    "\n",
    "def butterworth_filter(data, low, high, sample_rate, order=5):\n",
    "    nyquist_rate = sample_rate * 0.5\n",
    "    low /= nyquist_rate\n",
    "    high /= nyquist_rate\n",
    "    b, a = signal.butter(order, [low, high], btype='band')\n",
    "    return signal.lfilter(b, a, data)"
   ]
  },
  {
   "cell_type": "code",
   "execution_count": 379,
   "metadata": {},
   "outputs": [],
   "source": [
    "def cal_bpm(flag_queue, Sig_f, Sig_l, Sig_r, fps, bpm_avg, bpm_f, bpm_l, bpm_r):\n",
    "    Sig_f = np.array(Sig_f)\n",
    "    Sig_l = np.array(Sig_l)\n",
    "    Sig_r = np.array(Sig_r)\n",
    "    if flag_queue:\n",
    "        if Sig_f.size != 1:\n",
    "            bvp_f_raw = CHROM(Sig_f)\n",
    "            conf_f = 1 / \\\n",
    "                (max(bvp_f_raw) - min(bvp_f_raw))\n",
    "            bvp_f = butterworth_filter(Signal_Preprocessing_single(bvp_f_raw), MIN_HZ, MAX_HZ, fps, order=5)\n",
    "            spc_f = np.abs(np.fft.fft(bvp_f))\n",
    "            bpm_f = transfer2bmp(BETA, bpm_f, spc_f, fps)\n",
    "        if Sig_l.size != 1:\n",
    "            bvp_l_raw = CHROM(Sig_l)\n",
    "            conf_l = 1 / \\\n",
    "                (max(bvp_l_raw)-min(bvp_l_raw))\n",
    "            bvp_l = butterworth_filter(Signal_Preprocessing_single(bvp_l_raw), MIN_HZ, MAX_HZ, fps, order=5)\n",
    "            spc_l = np.abs(np.fft.fft(bvp_l))\n",
    "            bpm_l = transfer2bmp(BETA, bpm_l, spc_l, fps)\n",
    "        if Sig_r.size != 1:\n",
    "            bvp_r_raw = CHROM(Sig_r)\n",
    "            conf_r = 1 / \\\n",
    "                (max(bvp_r_raw)-min(bvp_r_raw))\n",
    "            bvp_r = butterworth_filter(Signal_Preprocessing_single(bvp_r_raw), MIN_HZ, MAX_HZ, fps, order=5)\n",
    "            spc_r = np.abs(np.fft.fft(bvp_r))\n",
    "            bpm_r = transfer2bmp(BETA, bpm_r, spc_r, fps)\n",
    "            \n",
    "        total_conf = conf_f+conf_l+conf_r\n",
    "        conf_f = conf_f/total_conf\n",
    "        conf_l = conf_l/total_conf\n",
    "        conf_r = conf_r/total_conf\n",
    "        bpm_avg = bpm_f*conf_f+bpm_l * conf_l+bpm_r*conf_r\n",
    "\n",
    "    return bpm_avg, bpm_f, bpm_l, bpm_r\n",
    "    "
   ]
  },
  {
   "cell_type": "code",
   "execution_count": null,
   "metadata": {},
   "outputs": [],
   "source": [
    "name_list = ['p6_0.mat', 'p6_4.mat', 'p6_8.mat', 'p6_16.mat', 'p29_0.mat', 'p29_4.mat', 'p29_8.mat', 'p29_16.mat']\n",
    "predictions_dict = {}\n",
    "\n",
    "for name in name_list:\n",
    "    sample_file = sio.loadmat('p6_4.mat')\n",
    "    video = sample_file['video']\n",
    "\n",
    "    fps = 30\n",
    "    QUEUE_MAX = 256\n",
    "    QUEUE_WINDOWS = 32\n",
    "    Queue_rawframe = Queue(maxsize=3)\n",
    "\n",
    "    Queue_Sig_l = Queue(maxsize=QUEUE_MAX)\n",
    "    Queue_Sig_r = Queue(maxsize=QUEUE_MAX)\n",
    "    Queue_Sig_f = Queue(maxsize=QUEUE_MAX)\n",
    "    Queue_Time = Queue(maxsize=QUEUE_WINDOWS)\n",
    "\n",
    "    flag_face, flag_queue = False, False  \n",
    "    Sig_l = None\n",
    "    Sig_r = None\n",
    "    Sig_f = None\n",
    "\n",
    "    face_mask = None\n",
    "    frame_display = None\n",
    "\n",
    "    bpm_f = 60\n",
    "    bpm_l = 60\n",
    "    bpm_r = 60\n",
    "    bpm_avg = 60\n",
    "\n",
    "    predictions = []\n",
    "\n",
    "    for frame in video:\n",
    "        up_width = 1080\n",
    "        up_height = 1920\n",
    "        up_points = (up_width, up_height)\n",
    "        frame = cv.resize(frame, up_points, interpolation= cv.INTER_LINEAR)\n",
    "        frame *= 255\n",
    "        frame = frame.astype('uint8') \n",
    "\n",
    "        frame_display = copy.copy(frame)\n",
    "        if Queue_Time.full():\n",
    "            Queue_Time.get_nowait()\n",
    "        if Queue_rawframe.full():\n",
    "                    Queue_rawframe.get_nowait()\n",
    "        else:\n",
    "            Queue_Time.put_nowait(time.time())\n",
    "            \n",
    "        try:\n",
    "            Queue_rawframe.put_nowait(frame)\n",
    "        except Exception as e:\n",
    "            pass\n",
    "        \n",
    "        roi_l, roi_r, roi_f, flag_face, face_mask = roi(frame, flag_face)\n",
    "        # print(roi_l)\n",
    "        if roi_l is not None and roi_r is not None and roi_f is not None:\n",
    "            hist_l = RGB_hist(roi_l)\n",
    "            hist_r = RGB_hist(roi_r)\n",
    "            hist_f = RGB_hist(roi_f)\n",
    "            if Queue_Sig_l.full():\n",
    "                Sig_l = copy.copy(list(Queue_Sig_l.queue))\n",
    "                Queue_Sig_l.get_nowait()\n",
    "            else:\n",
    "                flag_queue = False\n",
    "\n",
    "            if Queue_Sig_r.full():\n",
    "                Sig_r = copy.copy(list(Queue_Sig_r.queue))\n",
    "                Queue_Sig_r.get_nowait()\n",
    "            else:\n",
    "                flag_queue = False\n",
    "        \n",
    "            if Queue_Sig_f.full():\n",
    "                Sig_f = copy.copy(list(Queue_Sig_f.queue))\n",
    "                Queue_Sig_f.get_nowait()\n",
    "                flag_queue = True\n",
    "            else:\n",
    "                flag_queue = False\n",
    "\n",
    "            Queue_Sig_l.put_nowait(Hist2Feature(hist_l))\n",
    "            Queue_Sig_r.put_nowait(Hist2Feature(hist_r))\n",
    "            Queue_Sig_f.put_nowait(Hist2Feature(hist_f))\n",
    "        \n",
    "        else:\n",
    "            hist_l, hist_r, hist_f = None, None, None\n",
    "            Queue_Sig_l.queue.clear()\n",
    "            Queue_Sig_r.queue.clear()\n",
    "            Queue_Sig_f.queue.clear()\n",
    "\n",
    "        print(Queue_Sig_f.qsize())\n",
    "\n",
    "        bpm_avg, bpm_f, bpm_l, bpm_r = cal_bpm(flag_queue, Sig_f, Sig_l, Sig_r, fps, bpm_avg, bpm_f, bpm_l, bpm_r)\n",
    "        predictions.append(bpm_avg)\n",
    "\n",
    "    predictions_dict[name] = predictions  \n"
   ]
  },
  {
   "cell_type": "code",
   "execution_count": null,
   "metadata": {},
   "outputs": [],
   "source": [
    "with np.printoptions(threshold=np.inf):\n",
    "    print(gt)"
   ]
  },
  {
   "cell_type": "code",
   "execution_count": 382,
   "metadata": {},
   "outputs": [
    {
     "name": "stdout",
     "output_type": "stream",
     "text": [
      "MAE of File p6_0.mat: 38.716036534555215\n",
      "MAE of File p6_4.mat: 35.045216774740126\n",
      "MAE of File p6_8.mat: 40.234542000691754\n",
      "MAE of File p6_16.mat: 38.66299749140089\n",
      "MAE of File p29_0.mat: 33.47884126172238\n",
      "MAE of File p29_4.mat: 35.24166680057325\n",
      "MAE of File p29_8.mat: 28.916818006226563\n",
      "MAE of File p29_16.mat: 29.93042722805038\n"
     ]
    }
   ],
   "source": [
    "for name in name_list:\n",
    "    sample_file = sio.loadmat(name)\n",
    "    gt = sample_file['GT_ppg']\n",
    "    N = gt.shape[1]\n",
    "    gt_value = gt[0]\n",
    "    prediction = predictions_dict[name]\n",
    "    # print(gt_value.shape)\n",
    "    # print(len(prediction))\n",
    "    MAE = 0\n",
    "    for i in range(N):\n",
    "        sig_gt = gt_value[i]\n",
    "        sig_pred = prediction[i]\n",
    "        MAE += abs(sig_pred - sig_gt)\n",
    "    MAE /= N\n",
    "    print(f'MAE of File {name}: {MAE}')"
   ]
  },
  {
   "cell_type": "code",
   "execution_count": 384,
   "metadata": {},
   "outputs": [
    {
     "data": {
      "image/png": "[encoded data removed]",
      "text/plain": [
       "<Figure size 1000x600 with 1 Axes>"
      ]
     },
     "metadata": {},
     "output_type": "display_data"
    }
   ],
   "source": [
    "import matplotlib.pyplot as plt\n",
    "\n",
    "# 数据\n",
    "files = ['p6_0.mat', 'p6_4.mat', 'p6_8.mat', 'p6_16.mat', 'p29_0.mat', 'p29_4.mat', 'p29_8.mat', 'p29_16.mat']\n",
    "maes = [38.716036534555215, 35.045216774740126, 40.234542000691754, 38.66299749140089, 33.47884126172238, 35.24166680057325, 28.916818006226563, 29.93042722805038]\n",
    "\n",
    "# 创建图像\n",
    "plt.figure(figsize=(10, 6))\n",
    "\n",
    "# 绘制条形图\n",
    "plt.bar(files, maes, color='blue')\n",
    "\n",
    "# 添加标题和轴标签\n",
    "plt.title('MAE of Different Files')\n",
    "plt.xlabel('File')\n",
    "plt.ylabel('MAE')\n",
    "\n",
    "# 旋转x轴标签，使其更易读\n",
    "plt.xticks(rotation=45)\n",
    "\n",
    "# 显示图像\n",
    "plt.tight_layout()\n",
    "plt.show()"
   ]
  }
 ],
 "metadata": {
  "kernelspec": {
   "display_name": "Python 3",
   "language": "python",
   "name": "python3"
  },
  "language_info": {
   "codemirror_mode": {
    "name": "ipython",
    "version": 3
   },
   "file_extension": ".py",
   "mimetype": "text/x-python",
   "name": "python",
   "nbconvert_exporter": "python",
   "pygments_lexer": "ipython3",
   "version": "3.11.5"
  }
 },
 "nbformat": 4,
 "nbformat_minor": 2
}
